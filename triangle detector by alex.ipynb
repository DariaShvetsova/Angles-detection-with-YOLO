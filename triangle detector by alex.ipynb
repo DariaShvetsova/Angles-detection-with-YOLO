{
 "cells": [
  {
   "cell_type": "code",
   "execution_count": 6,
   "metadata": {},
   "outputs": [],
   "source": [
    "# !pip install opencv-python"
   ]
  },
  {
   "cell_type": "code",
   "execution_count": null,
   "metadata": {},
   "outputs": [],
   "source": [
    "os.path.join(f\"/content/gdrive/MyDrive/angles_detector.v4-1.yolov8/test/images\", random_file)"
   ]
  },
  {
   "cell_type": "markdown",
   "metadata": {},
   "source": []
  },
  {
   "cell_type": "code",
   "execution_count": 8,
   "metadata": {},
   "outputs": [
    {
     "name": "stdout",
     "output_type": "stream",
     "text": [
      "Top vertex angle of the triangle: 38.59 degrees\n"
     ]
    },
    {
     "data": {
      "image/png": "[encoded data removed]",
      "text/plain": [
       "<Figure size 1000x500 with 2 Axes>"
      ]
     },
     "metadata": {},
     "output_type": "display_data"
    }
   ],
   "source": [
    "import cv2\n",
    "import numpy as np\n",
    "from matplotlib import pyplot as plt\n",
    "\n",
    "def angle_between_points(p0, p1, p2):\n",
    "    a = np.array(p0) - np.array(p1)\n",
    "    b = np.array(p2) - np.array(p1)\n",
    "    cosine_angle = np.dot(a, b) / (np.linalg.norm(a) * np.linalg.norm(b))\n",
    "    angle = np.arccos(cosine_angle)\n",
    "    return np.degrees(angle)\n",
    "\n",
    "# Set a random seed for reproducibility\n",
    "#np.random.seed(5)\n",
    "\n",
    "# Create a white image\n",
    "width, height = 640, 640\n",
    "image = np.ones((height, width, 3), dtype=np.uint8) * 255\n",
    "\n",
    "# Generate coordinates for a random triangle\n",
    "vertices = np.random.randint(100, 300, size=(3, 2))\n",
    "\n",
    "# Draw the triangle\n",
    "cv2.polylines(image, [vertices], isClosed=True, color=(0, 0, 0), thickness=2)\n",
    "\n",
    "# Convert to grayscale\n",
    "gray_image = cv2.cvtColor(image, cv2.COLOR_BGR2GRAY)\n",
    "\n",
    "# Apply thresholding\n",
    "_, threshold_image = cv2.threshold(gray_image, 127, 255, cv2.THRESH_BINARY)\n",
    "\n",
    "# Find contours\n",
    "contours, _ = cv2.findContours(threshold_image, cv2.RETR_TREE, cv2.CHAIN_APPROX_SIMPLE)\n",
    "\n",
    "# Draw contours on the original image\n",
    "contour_image = image.copy()\n",
    "cv2.drawContours(contour_image, contours, -1, (0, 255, 0), 3)\n",
    "\n",
    "# Find the triangle among contours and calculate the top angle\n",
    "for contour in contours:\n",
    "    epsilon = 0.02 * cv2.arcLength(contour, True)\n",
    "    approx = cv2.approxPolyDP(contour, epsilon, True)\n",
    "    \n",
    "    if len(approx) == 3:\n",
    "        vertices = approx.reshape(-1, 2)\n",
    "        vertices = vertices[np.argsort(vertices[:, 1])]\n",
    "        \n",
    "        top_angle = angle_between_points(vertices[1], vertices[0], vertices[2])\n",
    "        print(f\"Top vertex angle of the triangle: {top_angle:.2f} degrees\")\n",
    "        break\n",
    "else:\n",
    "    print(\"Triangle not found\")\n",
    "\n",
    "# Convert BGR images to RGB for displaying in matplotlib\n",
    "image_rgb = cv2.cvtColor(image, cv2.COLOR_BGR2RGB)\n",
    "contour_image_rgb = cv2.cvtColor(contour_image, cv2.COLOR_BGR2RGB)\n",
    "\n",
    "# Display the images side by side using matplotlib\n",
    "fig, axs = plt.subplots(1, 2, figsize=(10, 5))\n",
    "\n",
    "# Display the original image\n",
    "axs[0].imshow(image_rgb)\n",
    "axs[0].set_title('Original Image')\n",
    "axs[0].axis('off')\n",
    "\n",
    "# Display the image with contours\n",
    "axs[1].imshow(contour_image_rgb)\n",
    "axs[1].set_title('Image with Contours')\n",
    "axs[1].axis('off')\n",
    "\n",
    "plt.show()"
   ]
  },
  {
   "cell_type": "markdown",
   "metadata": {},
   "source": []
  },
  {
   "cell_type": "markdown",
   "metadata": {},
   "source": []
  },
  {
   "cell_type": "markdown",
   "metadata": {},
   "source": []
  }
 ],
 "metadata": {
  "kernelspec": {
   "display_name": "base",
   "language": "python",
   "name": "python3"
  },
  "language_info": {
   "codemirror_mode": {
    "name": "ipython",
    "version": 3
   },
   "file_extension": ".py",
   "mimetype": "text/x-python",
   "name": "python",
   "nbconvert_exporter": "python",
   "pygments_lexer": "ipython3",
   "version": "3.12.2"
  }
 },
 "nbformat": 4,
 "nbformat_minor": 2
}
